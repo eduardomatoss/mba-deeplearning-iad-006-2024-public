{
 "cells": [
  {
   "cell_type": "markdown",
   "metadata": {},
   "source": [
    "Aqui está um código simples com sklearn para testar a execução de Python no Codespace com uma Decision Tree:"
   ]
  },
  {
   "cell_type": "code",
   "execution_count": 1,
   "metadata": {},
   "outputs": [],
   "source": [
    "import warnings\n",
    "import pickle\n",
    "from PIL import Image\n",
    "\n",
    "import numpy as np\n",
    "from sklearn.tree import DecisionTreeClassifier\n",
    "from sklearn.ensemble import RandomForestClassifier\n",
    "from sklearn.ensemble import GradientBoostingClassifier\n",
    "from sklearn.model_selection import train_test_split\n",
    "from sklearn.datasets import load_iris\n",
    "from sklearn.datasets import load_digits\n",
    "# from sklearn.datasets import fetch_openml\n",
    "from sklearn.metrics import accuracy_score\n",
    "from sklearn.metrics import classification_report\n",
    "import matplotlib.pyplot as plt\n",
    "import xgboost as xgb\n",
    "\n",
    "warnings.filterwarnings(\"ignore\")"
   ]
  },
  {
   "cell_type": "code",
   "execution_count": 2,
   "metadata": {},
   "outputs": [
    {
     "name": "stdout",
     "output_type": "stream",
     "text": [
      "Precisão: 1.0\n"
     ]
    }
   ],
   "source": [
    "# Carregar o dataset Iris\n",
    "iris = load_iris()\n",
    "X = iris.data\n",
    "y = iris.target\n",
    "\n",
    "# Dividir o dataset em treinamento e teste\n",
    "X_train, X_test, y_train, y_test = train_test_split(X, y, test_size=0.2, random_state=42)\n",
    "\n",
    "# Criar uma Decision Tree\n",
    "clf = DecisionTreeClassifier(random_state=42)\n",
    "\n",
    "# Treinar a Decision Tree\n",
    "clf.fit(X_train, y_train)\n",
    "\n",
    "# Prever as classes para o conjunto de teste\n",
    "y_pred = clf.predict(X_test)\n",
    "\n",
    "# Imprimir a precisão da Decision Tree\n",
    "print(\"Precisão:\", clf.score(X_test, y_test))"
   ]
  },
  {
   "cell_type": "markdown",
   "metadata": {},
   "source": [
    "## Exercício 1 - Treinamento do modelo baseado em árvore de decisão"
   ]
  },
  {
   "cell_type": "code",
   "execution_count": 3,
   "metadata": {},
   "outputs": [
    {
     "name": "stdout",
     "output_type": "stream",
     "text": [
      "Data shape: (1437, 64) (360, 64)\n",
      "Labels shape: (1437,) (360,)\n"
     ]
    }
   ],
   "source": [
    "mnist = load_digits()\n",
    "# mnist = fetch_openml('mnist_784', version=1, as_frame=False)\n",
    "X, y = mnist[\"data\"], mnist[\"target\"]\n",
    "# y = y.astype(np.int8)\n",
    "\n",
    "X_train, X_test, y_train, y_test = train_test_split(X, y, test_size=0.2, random_state=42)\n",
    "\n",
    "print(\"Data shape:\", X_train.shape, X_test.shape)\n",
    "print(\"Labels shape:\", y_train.shape, y_test.shape)"
   ]
  },
  {
   "cell_type": "code",
   "execution_count": 4,
   "metadata": {},
   "outputs": [
    {
     "name": "stdout",
     "output_type": "stream",
     "text": [
      "Acurácia: 97.78%\n",
      "Relatório de Classificação:\n",
      "               precision    recall  f1-score   support\n",
      "\n",
      "           0       1.00      0.97      0.98        33\n",
      "           1       1.00      1.00      1.00        28\n",
      "           2       1.00      1.00      1.00        33\n",
      "           3       1.00      0.94      0.97        34\n",
      "           4       0.98      1.00      0.99        46\n",
      "           5       0.96      0.98      0.97        47\n",
      "           6       0.97      0.97      0.97        35\n",
      "           7       0.94      0.97      0.96        34\n",
      "           8       0.97      1.00      0.98        30\n",
      "           9       0.97      0.95      0.96        40\n",
      "\n",
      "    accuracy                           0.98       360\n",
      "   macro avg       0.98      0.98      0.98       360\n",
      "weighted avg       0.98      0.98      0.98       360\n",
      "\n"
     ]
    }
   ],
   "source": [
    "dtrain = xgb.DMatrix(X_train, label=y_train)\n",
    "dtest = xgb.DMatrix(X_test, label=y_test)\n",
    "\n",
    "params = {\n",
    "    'objective': 'multi:softmax',  # para classificação multiclasse\n",
    "    'num_class': 10,               # número de classes\n",
    "    'max_depth': 6,                # profundidade máxima da árvore\n",
    "    'eta': 0.3,                    # taxa de aprendizado\n",
    "    'subsample': 0.8,              # taxa de amostragem\n",
    "    'colsample_bytree': 0.8        # taxa de amostragem de colunas\n",
    "}\n",
    "\n",
    "num_round = 300\n",
    "xgb_clf = xgb.train(params, dtrain, num_round)\n",
    "\n",
    "y_pred_xgb = xgb_clf.predict(dtest)\n",
    "\n",
    "accuracy_xgb = accuracy_score(y_test, y_pred_xgb)\n",
    "print(f'Acurácia: {accuracy_xgb * 100:.2f}%')\n",
    "print(\"Relatório de Classificação:\\n\", classification_report(y_test, y_pred_xgb))"
   ]
  },
  {
   "cell_type": "markdown",
   "metadata": {},
   "source": [
    "## Exercício 2 - Avaliação dos ganhos com a utilização de modelos Ensemble"
   ]
  },
  {
   "cell_type": "code",
   "execution_count": 5,
   "metadata": {},
   "outputs": [
    {
     "name": "stdout",
     "output_type": "stream",
     "text": [
      "Acurácia: 97.22%\n",
      "Relatório de Classificação:\n",
      "               precision    recall  f1-score   support\n",
      "\n",
      "           0       1.00      0.97      0.98        33\n",
      "           1       0.97      1.00      0.98        28\n",
      "           2       1.00      1.00      1.00        33\n",
      "           3       1.00      0.94      0.97        34\n",
      "           4       0.98      1.00      0.99        46\n",
      "           5       0.94      0.96      0.95        47\n",
      "           6       0.97      0.97      0.97        35\n",
      "           7       0.97      0.97      0.97        34\n",
      "           8       0.97      0.97      0.97        30\n",
      "           9       0.95      0.95      0.95        40\n",
      "\n",
      "    accuracy                           0.97       360\n",
      "   macro avg       0.97      0.97      0.97       360\n",
      "weighted avg       0.97      0.97      0.97       360\n",
      "\n"
     ]
    }
   ],
   "source": [
    "clf_rfc = RandomForestClassifier(n_estimators=100, random_state=42)\n",
    "\n",
    "clf_rfc.fit(X_train, y_train)\n",
    "\n",
    "y_pred_rfc = clf_rfc.predict(X_test)\n",
    "\n",
    "accuracy_rf  = accuracy_score(y_test, y_pred_rfc)\n",
    "print(f'Acurácia: {accuracy_rf * 100:.2f}%')\n",
    "print(\"Relatório de Classificação:\\n\", classification_report(y_test, y_pred_rfc))"
   ]
  },
  {
   "cell_type": "code",
   "execution_count": 6,
   "metadata": {},
   "outputs": [
    {
     "name": "stdout",
     "output_type": "stream",
     "text": [
      "Acurácia: 84.17%\n",
      "Relatório de Classificação:\n",
      "               precision    recall  f1-score   support\n",
      "\n",
      "           0       0.97      0.88      0.92        33\n",
      "           1       0.85      0.79      0.81        28\n",
      "           2       0.86      0.73      0.79        33\n",
      "           3       0.76      0.85      0.81        34\n",
      "           4       0.84      0.91      0.88        46\n",
      "           5       0.89      0.85      0.87        47\n",
      "           6       0.97      0.91      0.94        35\n",
      "           7       0.82      0.91      0.86        34\n",
      "           8       0.75      0.70      0.72        30\n",
      "           9       0.75      0.82      0.79        40\n",
      "\n",
      "    accuracy                           0.84       360\n",
      "   macro avg       0.84      0.84      0.84       360\n",
      "weighted avg       0.85      0.84      0.84       360\n",
      "\n"
     ]
    }
   ],
   "source": [
    "clf_dtc = DecisionTreeClassifier(random_state=42)\n",
    "clf_dtc.fit(X_train, y_train)\n",
    "\n",
    "y_pred_dtc = clf_dtc.predict(X_test)\n",
    "\n",
    "accuracy_dt = accuracy_score(y_test, y_pred_dtc)\n",
    "print(f'Acurácia: {accuracy_dt * 100:.2f}%')\n",
    "print(\"Relatório de Classificação:\\n\", classification_report(y_test, y_pred_dtc))\n"
   ]
  },
  {
   "cell_type": "code",
   "execution_count": 7,
   "metadata": {},
   "outputs": [
    {
     "name": "stdout",
     "output_type": "stream",
     "text": [
      "Acurácia: 96.94%\n"
     ]
    }
   ],
   "source": [
    "clf_gbc = GradientBoostingClassifier(n_estimators=100, random_state=42)\n",
    "\n",
    "clf_gbc.fit(X_train, y_train)\n",
    "\n",
    "y_pred_gbc = clf_gbc.predict(X_test)\n",
    "\n",
    "accuracy_gb = accuracy_score(y_test, y_pred_gbc)\n",
    "print(f'Acurácia: {accuracy_gb * 100:.2f}%')"
   ]
  },
  {
   "cell_type": "code",
   "execution_count": 8,
   "metadata": {},
   "outputs": [
    {
     "name": "stdout",
     "output_type": "stream",
     "text": [
      "Acurácia do modelo XGBoost: 0.9778\n",
      "Acurácia do modelo Random Forest: 0.9722\n",
      "Acurácia do modelo de árvore de decisão simples: 0.8417\n",
      "Acurácia do modelo Gradient Boosting: 0.9694\n"
     ]
    }
   ],
   "source": [
    "print(f'Acurácia do modelo XGBoost: {accuracy_xgb:.4f}')\n",
    "print(f'Acurácia do modelo Random Forest: {accuracy_rf:.4f}')\n",
    "print(f'Acurácia do modelo de árvore de decisão simples: {accuracy_dt:.4f}')\n",
    "print(f'Acurácia do modelo Gradient Boosting: {accuracy_gb:.4f}')"
   ]
  },
  {
   "cell_type": "markdown",
   "metadata": {},
   "source": [
    "## Exercício 3 - Visualização da árvore de decisão e Medida de Impureza"
   ]
  },
  {
   "cell_type": "code",
   "execution_count": 9,
   "metadata": {},
   "outputs": [
    {
     "data": {
      "image/png": "[encoded data removed]",
      "text/plain": [
       "<Figure size 640x480 with 1 Axes>"
      ]
     },
     "metadata": {},
     "output_type": "display_data"
    }
   ],
   "source": [
    "xgb.plot_importance(xgb_clf, importance_type='weight', max_num_features=5)\n",
    "plt.show()\n"
   ]
  },
  {
   "cell_type": "code",
   "execution_count": 10,
   "metadata": {},
   "outputs": [
    {
     "data": {
      "text/plain": [
       "<Figure size 2000x1000 with 0 Axes>"
      ]
     },
     "metadata": {},
     "output_type": "display_data"
    },
    {
     "data": {
      "image/png": "[encoded data removed]",
      "text/plain": [
       "<Figure size 640x480 with 1 Axes>"
      ]
     },
     "metadata": {},
     "output_type": "display_data"
    }
   ],
   "source": [
    "plt.figure(figsize=(20, 10))\n",
    "xgb.plot_tree(xgb_clf, num_trees=0)\n",
    "plt.show()\n"
   ]
  },
  {
   "cell_type": "code",
   "execution_count": 11,
   "metadata": {},
   "outputs": [
    {
     "data": {
      "text/plain": [
       "'bst_tree.png'"
      ]
     },
     "execution_count": 11,
     "metadata": {},
     "output_type": "execute_result"
    }
   ],
   "source": [
    "bst_tree = xgb.to_graphviz(xgb_clf, num_trees=0)\n",
    "bst_tree.render('bst_tree', format='png')"
   ]
  },
  {
   "cell_type": "code",
   "execution_count": 12,
   "metadata": {},
   "outputs": [],
   "source": [
    "def plot_image(image, label):\n",
    "    plt.imshow(image.reshape(8, 8), cmap='gray')\n",
    "    plt.title(f'Label: {label}')\n",
    "    plt.axis('off')\n",
    "    plt.show()\n"
   ]
  },
  {
   "cell_type": "code",
   "execution_count": 13,
   "metadata": {},
   "outputs": [
    {
     "name": "stdout",
     "output_type": "stream",
     "text": [
      "Previsão para a imagem: 5\n",
      "Label verdadeiro: 5\n"
     ]
    },
    {
     "data": {
      "image/png": "[encoded data removed]",
      "text/plain": [
       "<Figure size 640x480 with 1 Axes>"
      ]
     },
     "metadata": {},
     "output_type": "display_data"
    }
   ],
   "source": [
    "image_index = 32\n",
    "image_data = X[image_index]\n",
    "\n",
    "processed_image = np.expand_dims(image_data, axis=0)\n",
    "\n",
    "dimage = xgb.DMatrix(processed_image)\n",
    "\n",
    "y_pred_image = xgb_clf.predict(dimage)\n",
    "print(f'Previsão para a imagem: {int(y_pred_image[0])}')\n",
    "\n",
    "true_label = y[image_index]\n",
    "print(f'Label verdadeiro: {true_label}')\n",
    "\n",
    "plot_image(X[image_index], y[image_index])"
   ]
  },
  {
   "cell_type": "code",
   "execution_count": 14,
   "metadata": {},
   "outputs": [
    {
     "name": "stdout",
     "output_type": "stream",
     "text": [
      "Modelo XGBoost salvo com sucesso em 'xgb_clf.pkl'\n"
     ]
    }
   ],
   "source": [
    "with open('xgb_clf.pkl', 'wb') as file:\n",
    "    pickle.dump(xgb_clf, file)\n",
    "\n",
    "print(\"Modelo XGBoost salvo com sucesso em 'xgb_clf.pkl'\")"
   ]
  },
  {
   "cell_type": "code",
   "execution_count": 15,
   "metadata": {},
   "outputs": [],
   "source": [
    "with open('xgb_clf.pkl', 'rb') as file:\n",
    "    xgb_clf_pkl = pickle.load(file)"
   ]
  },
  {
   "cell_type": "code",
   "execution_count": 16,
   "metadata": {},
   "outputs": [],
   "source": [
    "def preprocess_image(image_path: str) -> np.ndarray:\n",
    "    image = Image.open(image_path)\n",
    "    image = image.resize((8, 8))\n",
    "    image = image.convert('L')\n",
    "    image_array = np.array(image)\n",
    "    image_array = image_array / 16.0\n",
    "    image_array = image_array.flatten()\n",
    "    return image_array\n",
    "\n",
    "def predict_image(image_array: np.ndarray) -> int:\n",
    "    dmatrix = xgb.DMatrix([image_array])\n",
    "    prediction = xgb_clf_pkl.predict(dmatrix)\n",
    "    return int(prediction[0])"
   ]
  },
  {
   "cell_type": "code",
   "execution_count": 18,
   "metadata": {},
   "outputs": [
    {
     "data": {
      "image/png": "[encoded data removed]",
      "text/plain": [
       "<Figure size 640x480 with 1 Axes>"
      ]
     },
     "metadata": {},
     "output_type": "display_data"
    },
    {
     "name": "stdout",
     "output_type": "stream",
     "text": [
      "A previsão para a imagem é: 0\n"
     ]
    }
   ],
   "source": [
    "image_path = \"/workspaces/mba-deeplearning-iad-006-2024-public/imagens/imagem_positiva.png\"\n",
    "\n",
    "image_array = preprocess_image(image_path)\n",
    "\n",
    "prediction = predict_image(image_array)\n",
    "\n",
    "plt.imshow(Image.open(image_path))\n",
    "plt.title(f'Previsão: {prediction}')\n",
    "plt.axis('off')\n",
    "plt.show()\n",
    "\n",
    "print(f'A previsão para a imagem é: {prediction}')\n"
   ]
  }
 ],
 "metadata": {
  "kernelspec": {
   "display_name": "Python 3",
   "language": "python",
   "name": "python3"
  },
  "language_info": {
   "codemirror_mode": {
    "name": "ipython",
    "version": 3
   },
   "file_extension": ".py",
   "mimetype": "text/x-python",
   "name": "python",
   "nbconvert_exporter": "python",
   "pygments_lexer": "ipython3",
   "version": "3.10.13"
  }
 },
 "nbformat": 4,
 "nbformat_minor": 2
}
