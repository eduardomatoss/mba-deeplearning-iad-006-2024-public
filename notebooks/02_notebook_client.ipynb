{
 "cells": [
  {
   "cell_type": "code",
   "execution_count": 2,
   "metadata": {},
   "outputs": [],
   "source": [
    "from requests import post"
   ]
  },
  {
   "cell_type": "code",
   "execution_count": 7,
   "metadata": {},
   "outputs": [],
   "source": [
    "api_url = 'http://localhost:8000/predict'"
   ]
  },
  {
   "cell_type": "code",
   "execution_count": 4,
   "metadata": {},
   "outputs": [],
   "source": [
    "def predict(image_path, api_url):\n",
    "    with open(image_path, 'rb') as image_file:\n",
    "        files = {'file': ('image.jpg', image_file, 'image/jpeg')}\n",
    "        response = post(api_url, files=files)\n",
    "\n",
    "    if response.status_code == 200:\n",
    "        return response.json()\n",
    "    else:\n",
    "        print(f'Erro ao fazer a requisição: {response.status_code}')"
   ]
  },
  {
   "cell_type": "code",
   "execution_count": 8,
   "metadata": {},
   "outputs": [
    {
     "name": "stdout",
     "output_type": "stream",
     "text": [
      "Previsão da API: {'prediction': 0}\n"
     ]
    }
   ],
   "source": [
    "image_path = '/workspaces/mba-deeplearning-iad-006-2024-public/imagens/imagem_positiva.png'\n",
    "\n",
    "response = predict(image_path, api_url)\n",
    "print(f'Previsão da API: {response}')"
   ]
  },
  {
   "cell_type": "code",
   "execution_count": 9,
   "metadata": {},
   "outputs": [
    {
     "name": "stdout",
     "output_type": "stream",
     "text": [
      "Previsão da API: {'prediction': 8}\n"
     ]
    }
   ],
   "source": [
    "image_path = '/workspaces/mba-deeplearning-iad-006-2024-public/imagens/imagem_negativa.png'\n",
    "\n",
    "response = predict(image_path, api_url)\n",
    "print(f'Previsão da API: {response}')"
   ]
  },
  {
   "cell_type": "code",
   "execution_count": 10,
   "metadata": {},
   "outputs": [
    {
     "name": "stdout",
     "output_type": "stream",
     "text": [
      "Previsão da API: {'prediction': 0}\n"
     ]
    }
   ],
   "source": [
    "image_path = '/workspaces/mba-deeplearning-iad-006-2024-public/imagens/imagem_positiva_ruido.png'\n",
    "\n",
    "response = predict(image_path, api_url)\n",
    "print(f'Previsão da API: {response}')"
   ]
  }
 ],
 "metadata": {
  "kernelspec": {
   "display_name": "Python 3",
   "language": "python",
   "name": "python3"
  },
  "language_info": {
   "codemirror_mode": {
    "name": "ipython",
    "version": 3
   },
   "file_extension": ".py",
   "mimetype": "text/x-python",
   "name": "python",
   "nbconvert_exporter": "python",
   "pygments_lexer": "ipython3",
   "version": "3.10.13"
  }
 },
 "nbformat": 4,
 "nbformat_minor": 2
}
